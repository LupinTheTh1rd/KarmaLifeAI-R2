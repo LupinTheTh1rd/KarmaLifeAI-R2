{
 "cells": [
  {
   "cell_type": "markdown",
   "id": "03269294",
   "metadata": {},
   "source": [
    "Assignment 3\n",
    "\n",
    "Laguage Used: Python (version 9.3.4)"
   ]
  },
  {
   "cell_type": "code",
   "execution_count": 1,
   "id": "7cf4986a",
   "metadata": {},
   "outputs": [],
   "source": [
    "def count_words(inputStr):\n",
    "    words = inputStr.split()\n",
    "\n",
    "    # keys for dictionary\n",
    "    keys = []\n",
    "    for word in words:\n",
    "        if word.lower() not in keys:    # ignore case\n",
    "            keys.append(word.lower())   \n",
    "\n",
    "    # values for dictionary\n",
    "    values = list(map(lambda v: words.count(v), keys))\n",
    "\n",
    "    # form dictionary mapping\n",
    "    result = dict(zip(keys, values))\n",
    "\n",
    "    # display output in string format\n",
    "    print(str(result))"
   ]
  },
  {
   "cell_type": "code",
   "execution_count": 2,
   "id": "0ea42f1f",
   "metadata": {},
   "outputs": [
    {
     "name": "stdout",
     "output_type": "stream",
     "text": [
      "{'oh': 1, 'what': 2, 'a': 2, 'day': 2, 'lovely': 1}\n"
     ]
    }
   ],
   "source": [
    "#sample test case 1\n",
    "count_words(\"oh what a day what a lovely day\")"
   ]
  },
  {
   "cell_type": "code",
   "execution_count": 3,
   "id": "01384c37",
   "metadata": {},
   "outputs": [
    {
     "name": "stdout",
     "output_type": "stream",
     "text": [
      "{\"don't\": 1, 'stop': 1, 'believing': 1}\n"
     ]
    }
   ],
   "source": [
    "#sample test case 2\n",
    "count_words(\"don't stop believing\")"
   ]
  },
  {
   "cell_type": "code",
   "execution_count": 4,
   "id": "9fd2660c",
   "metadata": {},
   "outputs": [
    {
     "name": "stdout",
     "output_type": "stream",
     "text": [
      "{'how': 1, 'much': 1, 'wood': 2, 'could': 2, 'a': 2, 'chuck': 4, 'if': 1}\n"
     ]
    }
   ],
   "source": [
    "#user test cases\n",
    "count_words(\"how much wood could a Wood chuck chuck if a WOOD chuck could chuck wood\")"
   ]
  },
  {
   "cell_type": "code",
   "execution_count": 5,
   "id": "59b8aaa9",
   "metadata": {},
   "outputs": [
    {
     "name": "stdout",
     "output_type": "stream",
     "text": [
      "{'this': 1, 'is': 1, 'a': 1, 'test': 1}\n"
     ]
    }
   ],
   "source": [
    "#user test cases\n",
    "count_words(\"this is a test THIS IS A TEST This Is A Test\")"
   ]
  },
  {
   "cell_type": "markdown",
   "id": "9ee88fc1",
   "metadata": {},
   "source": [
    "                                                        << END >>"
   ]
  }
 ],
 "metadata": {
  "kernelspec": {
   "display_name": "Python 3 (ipykernel)",
   "language": "python",
   "name": "python3"
  },
  "language_info": {
   "codemirror_mode": {
    "name": "ipython",
    "version": 3
   },
   "file_extension": ".py",
   "mimetype": "text/x-python",
   "name": "python",
   "nbconvert_exporter": "python",
   "pygments_lexer": "ipython3",
   "version": "3.9.4"
  }
 },
 "nbformat": 4,
 "nbformat_minor": 5
}
